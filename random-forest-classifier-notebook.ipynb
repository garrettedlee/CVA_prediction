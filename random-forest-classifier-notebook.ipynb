{
 "cells": [
  {
   "cell_type": "code",
   "execution_count": 1,
   "id": "e750b1ef",
   "metadata": {
    "_cell_guid": "b1076dfc-b9ad-4769-8c92-a6c4dae69d19",
    "_uuid": "8f2839f25d086af736a60e9eeb907d3b93b6e0e5",
    "execution": {
     "iopub.execute_input": "2023-12-27T22:42:06.000848Z",
     "iopub.status.busy": "2023-12-27T22:42:05.999575Z",
     "iopub.status.idle": "2023-12-27T22:42:06.347766Z",
     "shell.execute_reply": "2023-12-27T22:42:06.345998Z"
    },
    "papermill": {
     "duration": 0.358055,
     "end_time": "2023-12-27T22:42:06.350249",
     "exception": false,
     "start_time": "2023-12-27T22:42:05.992194",
     "status": "completed"
    },
    "tags": []
   },
   "outputs": [
    {
     "name": "stdout",
     "output_type": "stream",
     "text": [
      "/kaggle/input/stroke-prediction-dataset/healthcare-dataset-stroke-data.csv\n"
     ]
    }
   ],
   "source": [
    "# This Python 3 environment comes with many helpful analytics libraries installed\n",
    "# It is defined by the kaggle/python Docker image: https://github.com/kaggle/docker-python\n",
    "# For example, here's several helpful packages to load\n",
    "\n",
    "import numpy as np # linear algebra\n",
    "import pandas as pd # data processing, CSV file I/O (e.g. pd.read_csv)\n",
    "\n",
    "# Input data files are available in the read-only \"../input/\" directory\n",
    "# For example, running this (by clicking run or pressing Shift+Enter) will list all files under the input directory\n",
    "\n",
    "import os\n",
    "for dirname, _, filenames in os.walk('/kaggle/input'):\n",
    "    for filename in filenames:\n",
    "        print(os.path.join(dirname, filename))\n",
    "\n",
    "# You can write up to 20GB to the current directory (/kaggle/working/) that gets preserved as output when you create a version using \"Save & Run All\" \n",
    "# You can also write temporary files to /kaggle/temp/, but they won't be saved outside of the current session"
   ]
  },
  {
   "cell_type": "markdown",
   "id": "508c9264",
   "metadata": {
    "papermill": {
     "duration": 0.005097,
     "end_time": "2023-12-27T22:42:06.360909",
     "exception": false,
     "start_time": "2023-12-27T22:42:06.355812",
     "status": "completed"
    },
    "tags": []
   },
   "source": [
    "**Reading DataFrame**"
   ]
  },
  {
   "cell_type": "code",
   "execution_count": 2,
   "id": "659f603d",
   "metadata": {
    "execution": {
     "iopub.execute_input": "2023-12-27T22:42:06.374222Z",
     "iopub.status.busy": "2023-12-27T22:42:06.373715Z",
     "iopub.status.idle": "2023-12-27T22:42:06.421527Z",
     "shell.execute_reply": "2023-12-27T22:42:06.419978Z"
    },
    "papermill": {
     "duration": 0.05717,
     "end_time": "2023-12-27T22:42:06.423416",
     "exception": false,
     "start_time": "2023-12-27T22:42:06.366246",
     "status": "completed"
    },
    "tags": []
   },
   "outputs": [
    {
     "data": {
      "text/html": [
       "<div>\n",
       "<style scoped>\n",
       "    .dataframe tbody tr th:only-of-type {\n",
       "        vertical-align: middle;\n",
       "    }\n",
       "\n",
       "    .dataframe tbody tr th {\n",
       "        vertical-align: top;\n",
       "    }\n",
       "\n",
       "    .dataframe thead th {\n",
       "        text-align: right;\n",
       "    }\n",
       "</style>\n",
       "<table border=\"1\" class=\"dataframe\">\n",
       "  <thead>\n",
       "    <tr style=\"text-align: right;\">\n",
       "      <th></th>\n",
       "      <th>id</th>\n",
       "      <th>gender</th>\n",
       "      <th>age</th>\n",
       "      <th>hypertension</th>\n",
       "      <th>heart_disease</th>\n",
       "      <th>ever_married</th>\n",
       "      <th>work_type</th>\n",
       "      <th>Residence_type</th>\n",
       "      <th>avg_glucose_level</th>\n",
       "      <th>bmi</th>\n",
       "      <th>smoking_status</th>\n",
       "      <th>stroke</th>\n",
       "    </tr>\n",
       "  </thead>\n",
       "  <tbody>\n",
       "    <tr>\n",
       "      <th>0</th>\n",
       "      <td>9046</td>\n",
       "      <td>Male</td>\n",
       "      <td>67.0</td>\n",
       "      <td>0</td>\n",
       "      <td>1</td>\n",
       "      <td>Yes</td>\n",
       "      <td>Private</td>\n",
       "      <td>Urban</td>\n",
       "      <td>228.69</td>\n",
       "      <td>36.6</td>\n",
       "      <td>formerly smoked</td>\n",
       "      <td>1</td>\n",
       "    </tr>\n",
       "    <tr>\n",
       "      <th>1</th>\n",
       "      <td>51676</td>\n",
       "      <td>Female</td>\n",
       "      <td>61.0</td>\n",
       "      <td>0</td>\n",
       "      <td>0</td>\n",
       "      <td>Yes</td>\n",
       "      <td>Self-employed</td>\n",
       "      <td>Rural</td>\n",
       "      <td>202.21</td>\n",
       "      <td>NaN</td>\n",
       "      <td>never smoked</td>\n",
       "      <td>1</td>\n",
       "    </tr>\n",
       "    <tr>\n",
       "      <th>2</th>\n",
       "      <td>31112</td>\n",
       "      <td>Male</td>\n",
       "      <td>80.0</td>\n",
       "      <td>0</td>\n",
       "      <td>1</td>\n",
       "      <td>Yes</td>\n",
       "      <td>Private</td>\n",
       "      <td>Rural</td>\n",
       "      <td>105.92</td>\n",
       "      <td>32.5</td>\n",
       "      <td>never smoked</td>\n",
       "      <td>1</td>\n",
       "    </tr>\n",
       "    <tr>\n",
       "      <th>3</th>\n",
       "      <td>60182</td>\n",
       "      <td>Female</td>\n",
       "      <td>49.0</td>\n",
       "      <td>0</td>\n",
       "      <td>0</td>\n",
       "      <td>Yes</td>\n",
       "      <td>Private</td>\n",
       "      <td>Urban</td>\n",
       "      <td>171.23</td>\n",
       "      <td>34.4</td>\n",
       "      <td>smokes</td>\n",
       "      <td>1</td>\n",
       "    </tr>\n",
       "    <tr>\n",
       "      <th>4</th>\n",
       "      <td>1665</td>\n",
       "      <td>Female</td>\n",
       "      <td>79.0</td>\n",
       "      <td>1</td>\n",
       "      <td>0</td>\n",
       "      <td>Yes</td>\n",
       "      <td>Self-employed</td>\n",
       "      <td>Rural</td>\n",
       "      <td>174.12</td>\n",
       "      <td>24.0</td>\n",
       "      <td>never smoked</td>\n",
       "      <td>1</td>\n",
       "    </tr>\n",
       "  </tbody>\n",
       "</table>\n",
       "</div>"
      ],
      "text/plain": [
       "      id  gender   age  hypertension  heart_disease ever_married  \\\n",
       "0   9046    Male  67.0             0              1          Yes   \n",
       "1  51676  Female  61.0             0              0          Yes   \n",
       "2  31112    Male  80.0             0              1          Yes   \n",
       "3  60182  Female  49.0             0              0          Yes   \n",
       "4   1665  Female  79.0             1              0          Yes   \n",
       "\n",
       "       work_type Residence_type  avg_glucose_level   bmi   smoking_status  \\\n",
       "0        Private          Urban             228.69  36.6  formerly smoked   \n",
       "1  Self-employed          Rural             202.21   NaN     never smoked   \n",
       "2        Private          Rural             105.92  32.5     never smoked   \n",
       "3        Private          Urban             171.23  34.4           smokes   \n",
       "4  Self-employed          Rural             174.12  24.0     never smoked   \n",
       "\n",
       "   stroke  \n",
       "0       1  \n",
       "1       1  \n",
       "2       1  \n",
       "3       1  \n",
       "4       1  "
      ]
     },
     "execution_count": 2,
     "metadata": {},
     "output_type": "execute_result"
    }
   ],
   "source": [
    "df = pd.read_csv('/kaggle/input/stroke-prediction-dataset/healthcare-dataset-stroke-data.csv')\n",
    "df.head()"
   ]
  },
  {
   "cell_type": "code",
   "execution_count": 3,
   "id": "d48f3418",
   "metadata": {
    "execution": {
     "iopub.execute_input": "2023-12-27T22:42:06.435875Z",
     "iopub.status.busy": "2023-12-27T22:42:06.435537Z",
     "iopub.status.idle": "2023-12-27T22:42:06.442370Z",
     "shell.execute_reply": "2023-12-27T22:42:06.441412Z"
    },
    "papermill": {
     "duration": 0.015186,
     "end_time": "2023-12-27T22:42:06.444214",
     "exception": false,
     "start_time": "2023-12-27T22:42:06.429028",
     "status": "completed"
    },
    "tags": []
   },
   "outputs": [
    {
     "data": {
      "text/plain": [
       "(5110, 12)"
      ]
     },
     "execution_count": 3,
     "metadata": {},
     "output_type": "execute_result"
    }
   ],
   "source": [
    "df.shape"
   ]
  },
  {
   "cell_type": "code",
   "execution_count": 4,
   "id": "fef31b70",
   "metadata": {
    "execution": {
     "iopub.execute_input": "2023-12-27T22:42:06.457375Z",
     "iopub.status.busy": "2023-12-27T22:42:06.456844Z",
     "iopub.status.idle": "2023-12-27T22:42:06.467133Z",
     "shell.execute_reply": "2023-12-27T22:42:06.466371Z"
    },
    "papermill": {
     "duration": 0.019099,
     "end_time": "2023-12-27T22:42:06.468789",
     "exception": false,
     "start_time": "2023-12-27T22:42:06.449690",
     "status": "completed"
    },
    "tags": []
   },
   "outputs": [
    {
     "data": {
      "text/plain": [
       "id                     0\n",
       "gender                 0\n",
       "age                    0\n",
       "hypertension           0\n",
       "heart_disease          0\n",
       "ever_married           0\n",
       "work_type              0\n",
       "Residence_type         0\n",
       "avg_glucose_level      0\n",
       "bmi                  201\n",
       "smoking_status         0\n",
       "stroke                 0\n",
       "dtype: int64"
      ]
     },
     "execution_count": 4,
     "metadata": {},
     "output_type": "execute_result"
    }
   ],
   "source": [
    "df.isnull().sum()"
   ]
  },
  {
   "cell_type": "code",
   "execution_count": 5,
   "id": "fe2e25d8",
   "metadata": {
    "execution": {
     "iopub.execute_input": "2023-12-27T22:42:06.482484Z",
     "iopub.status.busy": "2023-12-27T22:42:06.481515Z",
     "iopub.status.idle": "2023-12-27T22:42:06.508525Z",
     "shell.execute_reply": "2023-12-27T22:42:06.507317Z"
    },
    "papermill": {
     "duration": 0.036227,
     "end_time": "2023-12-27T22:42:06.510710",
     "exception": false,
     "start_time": "2023-12-27T22:42:06.474483",
     "status": "completed"
    },
    "tags": []
   },
   "outputs": [
    {
     "data": {
      "text/html": [
       "<div>\n",
       "<style scoped>\n",
       "    .dataframe tbody tr th:only-of-type {\n",
       "        vertical-align: middle;\n",
       "    }\n",
       "\n",
       "    .dataframe tbody tr th {\n",
       "        vertical-align: top;\n",
       "    }\n",
       "\n",
       "    .dataframe thead th {\n",
       "        text-align: right;\n",
       "    }\n",
       "</style>\n",
       "<table border=\"1\" class=\"dataframe\">\n",
       "  <thead>\n",
       "    <tr style=\"text-align: right;\">\n",
       "      <th></th>\n",
       "      <th>id</th>\n",
       "      <th>age</th>\n",
       "      <th>hypertension</th>\n",
       "      <th>heart_disease</th>\n",
       "      <th>avg_glucose_level</th>\n",
       "      <th>bmi</th>\n",
       "      <th>stroke</th>\n",
       "    </tr>\n",
       "  </thead>\n",
       "  <tbody>\n",
       "    <tr>\n",
       "      <th>count</th>\n",
       "      <td>5110.000000</td>\n",
       "      <td>5110.000000</td>\n",
       "      <td>5110.000000</td>\n",
       "      <td>5110.000000</td>\n",
       "      <td>5110.000000</td>\n",
       "      <td>4909.000000</td>\n",
       "      <td>5110.000000</td>\n",
       "    </tr>\n",
       "    <tr>\n",
       "      <th>mean</th>\n",
       "      <td>36517.829354</td>\n",
       "      <td>43.226614</td>\n",
       "      <td>0.097456</td>\n",
       "      <td>0.054012</td>\n",
       "      <td>106.147677</td>\n",
       "      <td>28.893237</td>\n",
       "      <td>0.048728</td>\n",
       "    </tr>\n",
       "    <tr>\n",
       "      <th>std</th>\n",
       "      <td>21161.721625</td>\n",
       "      <td>22.612647</td>\n",
       "      <td>0.296607</td>\n",
       "      <td>0.226063</td>\n",
       "      <td>45.283560</td>\n",
       "      <td>7.854067</td>\n",
       "      <td>0.215320</td>\n",
       "    </tr>\n",
       "    <tr>\n",
       "      <th>min</th>\n",
       "      <td>67.000000</td>\n",
       "      <td>0.080000</td>\n",
       "      <td>0.000000</td>\n",
       "      <td>0.000000</td>\n",
       "      <td>55.120000</td>\n",
       "      <td>10.300000</td>\n",
       "      <td>0.000000</td>\n",
       "    </tr>\n",
       "    <tr>\n",
       "      <th>25%</th>\n",
       "      <td>17741.250000</td>\n",
       "      <td>25.000000</td>\n",
       "      <td>0.000000</td>\n",
       "      <td>0.000000</td>\n",
       "      <td>77.245000</td>\n",
       "      <td>23.500000</td>\n",
       "      <td>0.000000</td>\n",
       "    </tr>\n",
       "    <tr>\n",
       "      <th>50%</th>\n",
       "      <td>36932.000000</td>\n",
       "      <td>45.000000</td>\n",
       "      <td>0.000000</td>\n",
       "      <td>0.000000</td>\n",
       "      <td>91.885000</td>\n",
       "      <td>28.100000</td>\n",
       "      <td>0.000000</td>\n",
       "    </tr>\n",
       "    <tr>\n",
       "      <th>75%</th>\n",
       "      <td>54682.000000</td>\n",
       "      <td>61.000000</td>\n",
       "      <td>0.000000</td>\n",
       "      <td>0.000000</td>\n",
       "      <td>114.090000</td>\n",
       "      <td>33.100000</td>\n",
       "      <td>0.000000</td>\n",
       "    </tr>\n",
       "    <tr>\n",
       "      <th>max</th>\n",
       "      <td>72940.000000</td>\n",
       "      <td>82.000000</td>\n",
       "      <td>1.000000</td>\n",
       "      <td>1.000000</td>\n",
       "      <td>271.740000</td>\n",
       "      <td>97.600000</td>\n",
       "      <td>1.000000</td>\n",
       "    </tr>\n",
       "  </tbody>\n",
       "</table>\n",
       "</div>"
      ],
      "text/plain": [
       "                 id          age  hypertension  heart_disease  \\\n",
       "count   5110.000000  5110.000000   5110.000000    5110.000000   \n",
       "mean   36517.829354    43.226614      0.097456       0.054012   \n",
       "std    21161.721625    22.612647      0.296607       0.226063   \n",
       "min       67.000000     0.080000      0.000000       0.000000   \n",
       "25%    17741.250000    25.000000      0.000000       0.000000   \n",
       "50%    36932.000000    45.000000      0.000000       0.000000   \n",
       "75%    54682.000000    61.000000      0.000000       0.000000   \n",
       "max    72940.000000    82.000000      1.000000       1.000000   \n",
       "\n",
       "       avg_glucose_level          bmi       stroke  \n",
       "count        5110.000000  4909.000000  5110.000000  \n",
       "mean          106.147677    28.893237     0.048728  \n",
       "std            45.283560     7.854067     0.215320  \n",
       "min            55.120000    10.300000     0.000000  \n",
       "25%            77.245000    23.500000     0.000000  \n",
       "50%            91.885000    28.100000     0.000000  \n",
       "75%           114.090000    33.100000     0.000000  \n",
       "max           271.740000    97.600000     1.000000  "
      ]
     },
     "execution_count": 5,
     "metadata": {},
     "output_type": "execute_result"
    }
   ],
   "source": [
    "df.describe()"
   ]
  },
  {
   "cell_type": "code",
   "execution_count": 6,
   "id": "4bf75e82",
   "metadata": {
    "execution": {
     "iopub.execute_input": "2023-12-27T22:42:06.524966Z",
     "iopub.status.busy": "2023-12-27T22:42:06.524292Z",
     "iopub.status.idle": "2023-12-27T22:42:06.552046Z",
     "shell.execute_reply": "2023-12-27T22:42:06.550625Z"
    },
    "papermill": {
     "duration": 0.036946,
     "end_time": "2023-12-27T22:42:06.554165",
     "exception": false,
     "start_time": "2023-12-27T22:42:06.517219",
     "status": "completed"
    },
    "tags": []
   },
   "outputs": [
    {
     "data": {
      "text/html": [
       "<div>\n",
       "<style scoped>\n",
       "    .dataframe tbody tr th:only-of-type {\n",
       "        vertical-align: middle;\n",
       "    }\n",
       "\n",
       "    .dataframe tbody tr th {\n",
       "        vertical-align: top;\n",
       "    }\n",
       "\n",
       "    .dataframe thead th {\n",
       "        text-align: right;\n",
       "    }\n",
       "</style>\n",
       "<table border=\"1\" class=\"dataframe\">\n",
       "  <thead>\n",
       "    <tr style=\"text-align: right;\">\n",
       "      <th></th>\n",
       "      <th>gender</th>\n",
       "      <th>age</th>\n",
       "      <th>hypertension</th>\n",
       "      <th>heart_disease</th>\n",
       "      <th>ever_married</th>\n",
       "      <th>work_type</th>\n",
       "      <th>Residence_type</th>\n",
       "      <th>avg_glucose_level</th>\n",
       "      <th>bmi</th>\n",
       "      <th>smoking_status</th>\n",
       "      <th>stroke</th>\n",
       "    </tr>\n",
       "  </thead>\n",
       "  <tbody>\n",
       "    <tr>\n",
       "      <th>0</th>\n",
       "      <td>Male</td>\n",
       "      <td>67.0</td>\n",
       "      <td>0</td>\n",
       "      <td>1</td>\n",
       "      <td>Yes</td>\n",
       "      <td>Private</td>\n",
       "      <td>Urban</td>\n",
       "      <td>228.69</td>\n",
       "      <td>36.600000</td>\n",
       "      <td>formerly smoked</td>\n",
       "      <td>1</td>\n",
       "    </tr>\n",
       "    <tr>\n",
       "      <th>1</th>\n",
       "      <td>Female</td>\n",
       "      <td>61.0</td>\n",
       "      <td>0</td>\n",
       "      <td>0</td>\n",
       "      <td>Yes</td>\n",
       "      <td>Self-employed</td>\n",
       "      <td>Rural</td>\n",
       "      <td>202.21</td>\n",
       "      <td>28.893237</td>\n",
       "      <td>never smoked</td>\n",
       "      <td>1</td>\n",
       "    </tr>\n",
       "    <tr>\n",
       "      <th>2</th>\n",
       "      <td>Male</td>\n",
       "      <td>80.0</td>\n",
       "      <td>0</td>\n",
       "      <td>1</td>\n",
       "      <td>Yes</td>\n",
       "      <td>Private</td>\n",
       "      <td>Rural</td>\n",
       "      <td>105.92</td>\n",
       "      <td>32.500000</td>\n",
       "      <td>never smoked</td>\n",
       "      <td>1</td>\n",
       "    </tr>\n",
       "    <tr>\n",
       "      <th>3</th>\n",
       "      <td>Female</td>\n",
       "      <td>49.0</td>\n",
       "      <td>0</td>\n",
       "      <td>0</td>\n",
       "      <td>Yes</td>\n",
       "      <td>Private</td>\n",
       "      <td>Urban</td>\n",
       "      <td>171.23</td>\n",
       "      <td>34.400000</td>\n",
       "      <td>smokes</td>\n",
       "      <td>1</td>\n",
       "    </tr>\n",
       "    <tr>\n",
       "      <th>4</th>\n",
       "      <td>Female</td>\n",
       "      <td>79.0</td>\n",
       "      <td>1</td>\n",
       "      <td>0</td>\n",
       "      <td>Yes</td>\n",
       "      <td>Self-employed</td>\n",
       "      <td>Rural</td>\n",
       "      <td>174.12</td>\n",
       "      <td>24.000000</td>\n",
       "      <td>never smoked</td>\n",
       "      <td>1</td>\n",
       "    </tr>\n",
       "  </tbody>\n",
       "</table>\n",
       "</div>"
      ],
      "text/plain": [
       "   gender   age  hypertension  heart_disease ever_married      work_type  \\\n",
       "0    Male  67.0             0              1          Yes        Private   \n",
       "1  Female  61.0             0              0          Yes  Self-employed   \n",
       "2    Male  80.0             0              1          Yes        Private   \n",
       "3  Female  49.0             0              0          Yes        Private   \n",
       "4  Female  79.0             1              0          Yes  Self-employed   \n",
       "\n",
       "  Residence_type  avg_glucose_level        bmi   smoking_status  stroke  \n",
       "0          Urban             228.69  36.600000  formerly smoked       1  \n",
       "1          Rural             202.21  28.893237     never smoked       1  \n",
       "2          Rural             105.92  32.500000     never smoked       1  \n",
       "3          Urban             171.23  34.400000           smokes       1  \n",
       "4          Rural             174.12  24.000000     never smoked       1  "
      ]
     },
     "execution_count": 6,
     "metadata": {},
     "output_type": "execute_result"
    }
   ],
   "source": [
    "#Cleaning Procedure\n",
    "missing_mean = df[\"bmi\"].mean()\n",
    "df.fillna(missing_mean, inplace=True)\n",
    "df = df.drop(['id'], axis=1)\n",
    "df.head()"
   ]
  },
  {
   "cell_type": "markdown",
   "id": "60ca54ff",
   "metadata": {
    "papermill": {
     "duration": 0.006295,
     "end_time": "2023-12-27T22:42:06.566837",
     "exception": false,
     "start_time": "2023-12-27T22:42:06.560542",
     "status": "completed"
    },
    "tags": []
   },
   "source": [
    "**EDA Process: Exploratory Data Analysis**"
   ]
  },
  {
   "cell_type": "code",
   "execution_count": 7,
   "id": "c718f12c",
   "metadata": {
    "execution": {
     "iopub.execute_input": "2023-12-27T22:42:06.581067Z",
     "iopub.status.busy": "2023-12-27T22:42:06.580649Z",
     "iopub.status.idle": "2023-12-27T22:42:08.338350Z",
     "shell.execute_reply": "2023-12-27T22:42:08.336992Z"
    },
    "papermill": {
     "duration": 1.767719,
     "end_time": "2023-12-27T22:42:08.340945",
     "exception": false,
     "start_time": "2023-12-27T22:42:06.573226",
     "status": "completed"
    },
    "tags": []
   },
   "outputs": [
    {
     "data": {
      "text/plain": [
       "Text(0.5, 1.0, 'Distribution of Ages in Positive and Negative Signals')"
      ]
     },
     "execution_count": 7,
     "metadata": {},
     "output_type": "execute_result"
    },
    {
     "data": {
      "image/png": "[encoded data removed]",
      "text/plain": [
       "<Figure size 640x480 with 1 Axes>"
      ]
     },
     "metadata": {},
     "output_type": "display_data"
    }
   ],
   "source": [
    "import seaborn as sns\n",
    "import matplotlib.pyplot as plt\n",
    "sns.histplot(data = df, x = 'age', kde = True, hue = 'stroke')\n",
    "plt.title(\"Distribution of Ages in Positive and Negative Signals\")"
   ]
  },
  {
   "cell_type": "markdown",
   "id": "d2da2bf8",
   "metadata": {
    "papermill": {
     "duration": 0.006419,
     "end_time": "2023-12-27T22:42:08.354118",
     "exception": false,
     "start_time": "2023-12-27T22:42:08.347699",
     "status": "completed"
    },
    "tags": []
   },
   "source": [
    "Based on the visualization highlighting age, it is evident that datapoints with a positive signal tend to be distributed on the older side."
   ]
  },
  {
   "cell_type": "code",
   "execution_count": 8,
   "id": "939f3ff4",
   "metadata": {
    "execution": {
     "iopub.execute_input": "2023-12-27T22:42:08.369042Z",
     "iopub.status.busy": "2023-12-27T22:42:08.368665Z",
     "iopub.status.idle": "2023-12-27T22:42:08.885116Z",
     "shell.execute_reply": "2023-12-27T22:42:08.883745Z"
    },
    "papermill": {
     "duration": 0.52641,
     "end_time": "2023-12-27T22:42:08.887225",
     "exception": false,
     "start_time": "2023-12-27T22:42:08.360815",
     "status": "completed"
    },
    "tags": []
   },
   "outputs": [
    {
     "data": {
      "text/plain": [
       "Text(0.5, 1.0, 'Distribution of Ages in Positive and Negative Signals')"
      ]
     },
     "execution_count": 8,
     "metadata": {},
     "output_type": "execute_result"
    },
    {
     "data": {
      "image/png": "[encoded data removed]",
      "text/plain": [
       "<Figure size 640x480 with 1 Axes>"
      ]
     },
     "metadata": {},
     "output_type": "display_data"
    }
   ],
   "source": [
    "sns.histplot(data = df, x = 'avg_glucose_level', kde = True, hue = 'stroke')\n",
    "plt.title(\"Distribution of Ages in Positive and Negative Signals\")"
   ]
  },
  {
   "cell_type": "markdown",
   "id": "4b8a0fec",
   "metadata": {
    "papermill": {
     "duration": 0.006677,
     "end_time": "2023-12-27T22:42:08.901516",
     "exception": false,
     "start_time": "2023-12-27T22:42:08.894839",
     "status": "completed"
    },
    "tags": []
   },
   "source": [
    "Based on the visalization plotting average glucose levels,datapoints with a positive signal are roughly evenly distributed in age. Conversely, the distribution of those negative in signal is skewed to the right."
   ]
  },
  {
   "cell_type": "code",
   "execution_count": 9,
   "id": "a8f681f3",
   "metadata": {
    "execution": {
     "iopub.execute_input": "2023-12-27T22:42:08.917290Z",
     "iopub.status.busy": "2023-12-27T22:42:08.916894Z",
     "iopub.status.idle": "2023-12-27T22:42:09.513434Z",
     "shell.execute_reply": "2023-12-27T22:42:09.511946Z"
    },
    "papermill": {
     "duration": 0.607304,
     "end_time": "2023-12-27T22:42:09.515814",
     "exception": false,
     "start_time": "2023-12-27T22:42:08.908510",
     "status": "completed"
    },
    "tags": []
   },
   "outputs": [
    {
     "data": {
      "text/plain": [
       "Text(0.5, 1.0, 'Distribution of Ages in Positive and Negative Signals')"
      ]
     },
     "execution_count": 9,
     "metadata": {},
     "output_type": "execute_result"
    },
    {
     "data": {
      "image/png": "[encoded data removed]",
      "text/plain": [
       "<Figure size 640x480 with 1 Axes>"
      ]
     },
     "metadata": {},
     "output_type": "display_data"
    }
   ],
   "source": [
    "sns.histplot(data = df, x = 'bmi', kde = True, hue = 'stroke')\n",
    "plt.title(\"Distribution of Ages in Positive and Negative Signals\")"
   ]
  },
  {
   "cell_type": "markdown",
   "id": "9bbb9837",
   "metadata": {
    "papermill": {
     "duration": 0.007833,
     "end_time": "2023-12-27T22:42:09.531554",
     "exception": false,
     "start_time": "2023-12-27T22:42:09.523721",
     "status": "completed"
    },
    "tags": []
   },
   "source": [
    "**One Hot Encoding Process**"
   ]
  },
  {
   "cell_type": "code",
   "execution_count": 10,
   "id": "f512bd41",
   "metadata": {
    "execution": {
     "iopub.execute_input": "2023-12-27T22:42:09.550008Z",
     "iopub.status.busy": "2023-12-27T22:42:09.548749Z",
     "iopub.status.idle": "2023-12-27T22:42:09.564329Z",
     "shell.execute_reply": "2023-12-27T22:42:09.562769Z"
    },
    "papermill": {
     "duration": 0.02818,
     "end_time": "2023-12-27T22:42:09.567799",
     "exception": false,
     "start_time": "2023-12-27T22:42:09.539619",
     "status": "completed"
    },
    "tags": []
   },
   "outputs": [
    {
     "name": "stdout",
     "output_type": "stream",
     "text": [
      "gender\n",
      "Female    2994\n",
      "Male      2115\n",
      "Other        1\n",
      "Name: count, dtype: int64 \n",
      "\n",
      "ever_married\n",
      "Yes    3353\n",
      "No     1757\n",
      "Name: count, dtype: int64 \n",
      "\n",
      "work_type\n",
      "Private          2925\n",
      "Self-employed     819\n",
      "children          687\n",
      "Govt_job          657\n",
      "Never_worked       22\n",
      "Name: count, dtype: int64 \n",
      "\n",
      "Residence_type\n",
      "Urban    2596\n",
      "Rural    2514\n",
      "Name: count, dtype: int64 \n",
      "\n",
      "smoking_status\n",
      "never smoked       1892\n",
      "Unknown            1544\n",
      "formerly smoked     885\n",
      "smokes              789\n",
      "Name: count, dtype: int64 \n",
      "\n"
     ]
    }
   ],
   "source": [
    "categorical_variables = [\"gender\", \"ever_married\", \"work_type\", \"Residence_type\", \"smoking_status\"]\n",
    "for cat in categorical_variables:\n",
    "    print(df[cat].value_counts(),\"\\n\")"
   ]
  },
  {
   "cell_type": "code",
   "execution_count": 11,
   "id": "f2670b9b",
   "metadata": {
    "execution": {
     "iopub.execute_input": "2023-12-27T22:42:09.586098Z",
     "iopub.status.busy": "2023-12-27T22:42:09.585718Z",
     "iopub.status.idle": "2023-12-27T22:42:09.594806Z",
     "shell.execute_reply": "2023-12-27T22:42:09.593745Z"
    },
    "papermill": {
     "duration": 0.020481,
     "end_time": "2023-12-27T22:42:09.596709",
     "exception": false,
     "start_time": "2023-12-27T22:42:09.576228",
     "status": "completed"
    },
    "tags": []
   },
   "outputs": [],
   "source": [
    "#Cleaning Process: Eliminating the 'other' category in gender for simplicity\n",
    "df = df[(df[\"gender\"] == 'Male') | (df[\"gender\"] == 'Female')]"
   ]
  },
  {
   "cell_type": "markdown",
   "id": "6416fa0a",
   "metadata": {
    "papermill": {
     "duration": 0.007306,
     "end_time": "2023-12-27T22:42:09.611968",
     "exception": false,
     "start_time": "2023-12-27T22:42:09.604662",
     "status": "completed"
    },
    "tags": []
   },
   "source": [
    "One hot encoding function:\n",
    "- Uses get_dummies to perform one-hot encoding \n",
    "- Concateate the original DataFrame and the one-hot encoded DataFrame\n",
    "- Drop the original column as it's no longer needed"
   ]
  },
  {
   "cell_type": "code",
   "execution_count": 12,
   "id": "97f5aed6",
   "metadata": {
    "execution": {
     "iopub.execute_input": "2023-12-27T22:42:09.630484Z",
     "iopub.status.busy": "2023-12-27T22:42:09.629110Z",
     "iopub.status.idle": "2023-12-27T22:42:09.635588Z",
     "shell.execute_reply": "2023-12-27T22:42:09.634523Z"
    },
    "papermill": {
     "duration": 0.017857,
     "end_time": "2023-12-27T22:42:09.637633",
     "exception": false,
     "start_time": "2023-12-27T22:42:09.619776",
     "status": "completed"
    },
    "tags": []
   },
   "outputs": [],
   "source": [
    "def one_hot_encode_column(df, column_name):\n",
    "    one_hot_encoded = pd.get_dummies(df[column_name], prefix=column_name).astype(int)\n",
    "    df = pd.concat([df, one_hot_encoded], axis=1)\n",
    "    df = df.drop(column_name, axis=1)\n",
    "    return df"
   ]
  },
  {
   "cell_type": "code",
   "execution_count": 13,
   "id": "5bbf8ff6",
   "metadata": {
    "execution": {
     "iopub.execute_input": "2023-12-27T22:42:09.655243Z",
     "iopub.status.busy": "2023-12-27T22:42:09.654875Z",
     "iopub.status.idle": "2023-12-27T22:42:09.688030Z",
     "shell.execute_reply": "2023-12-27T22:42:09.686714Z"
    },
    "papermill": {
     "duration": 0.044383,
     "end_time": "2023-12-27T22:42:09.690089",
     "exception": false,
     "start_time": "2023-12-27T22:42:09.645706",
     "status": "completed"
    },
    "tags": []
   },
   "outputs": [
    {
     "data": {
      "text/html": [
       "<div>\n",
       "<style scoped>\n",
       "    .dataframe tbody tr th:only-of-type {\n",
       "        vertical-align: middle;\n",
       "    }\n",
       "\n",
       "    .dataframe tbody tr th {\n",
       "        vertical-align: top;\n",
       "    }\n",
       "\n",
       "    .dataframe thead th {\n",
       "        text-align: right;\n",
       "    }\n",
       "</style>\n",
       "<table border=\"1\" class=\"dataframe\">\n",
       "  <thead>\n",
       "    <tr style=\"text-align: right;\">\n",
       "      <th></th>\n",
       "      <th>age</th>\n",
       "      <th>hypertension</th>\n",
       "      <th>heart_disease</th>\n",
       "      <th>avg_glucose_level</th>\n",
       "      <th>bmi</th>\n",
       "      <th>stroke</th>\n",
       "      <th>gender_Female</th>\n",
       "      <th>gender_Male</th>\n",
       "      <th>ever_married_No</th>\n",
       "      <th>ever_married_Yes</th>\n",
       "      <th>...</th>\n",
       "      <th>work_type_Never_worked</th>\n",
       "      <th>work_type_Private</th>\n",
       "      <th>work_type_Self-employed</th>\n",
       "      <th>work_type_children</th>\n",
       "      <th>Residence_type_Rural</th>\n",
       "      <th>Residence_type_Urban</th>\n",
       "      <th>smoking_status_Unknown</th>\n",
       "      <th>smoking_status_formerly smoked</th>\n",
       "      <th>smoking_status_never smoked</th>\n",
       "      <th>smoking_status_smokes</th>\n",
       "    </tr>\n",
       "  </thead>\n",
       "  <tbody>\n",
       "    <tr>\n",
       "      <th>0</th>\n",
       "      <td>67.0</td>\n",
       "      <td>0</td>\n",
       "      <td>1</td>\n",
       "      <td>228.69</td>\n",
       "      <td>36.600000</td>\n",
       "      <td>1</td>\n",
       "      <td>0</td>\n",
       "      <td>1</td>\n",
       "      <td>0</td>\n",
       "      <td>1</td>\n",
       "      <td>...</td>\n",
       "      <td>0</td>\n",
       "      <td>1</td>\n",
       "      <td>0</td>\n",
       "      <td>0</td>\n",
       "      <td>0</td>\n",
       "      <td>1</td>\n",
       "      <td>0</td>\n",
       "      <td>1</td>\n",
       "      <td>0</td>\n",
       "      <td>0</td>\n",
       "    </tr>\n",
       "    <tr>\n",
       "      <th>1</th>\n",
       "      <td>61.0</td>\n",
       "      <td>0</td>\n",
       "      <td>0</td>\n",
       "      <td>202.21</td>\n",
       "      <td>28.893237</td>\n",
       "      <td>1</td>\n",
       "      <td>1</td>\n",
       "      <td>0</td>\n",
       "      <td>0</td>\n",
       "      <td>1</td>\n",
       "      <td>...</td>\n",
       "      <td>0</td>\n",
       "      <td>0</td>\n",
       "      <td>1</td>\n",
       "      <td>0</td>\n",
       "      <td>1</td>\n",
       "      <td>0</td>\n",
       "      <td>0</td>\n",
       "      <td>0</td>\n",
       "      <td>1</td>\n",
       "      <td>0</td>\n",
       "    </tr>\n",
       "    <tr>\n",
       "      <th>2</th>\n",
       "      <td>80.0</td>\n",
       "      <td>0</td>\n",
       "      <td>1</td>\n",
       "      <td>105.92</td>\n",
       "      <td>32.500000</td>\n",
       "      <td>1</td>\n",
       "      <td>0</td>\n",
       "      <td>1</td>\n",
       "      <td>0</td>\n",
       "      <td>1</td>\n",
       "      <td>...</td>\n",
       "      <td>0</td>\n",
       "      <td>1</td>\n",
       "      <td>0</td>\n",
       "      <td>0</td>\n",
       "      <td>1</td>\n",
       "      <td>0</td>\n",
       "      <td>0</td>\n",
       "      <td>0</td>\n",
       "      <td>1</td>\n",
       "      <td>0</td>\n",
       "    </tr>\n",
       "    <tr>\n",
       "      <th>3</th>\n",
       "      <td>49.0</td>\n",
       "      <td>0</td>\n",
       "      <td>0</td>\n",
       "      <td>171.23</td>\n",
       "      <td>34.400000</td>\n",
       "      <td>1</td>\n",
       "      <td>1</td>\n",
       "      <td>0</td>\n",
       "      <td>0</td>\n",
       "      <td>1</td>\n",
       "      <td>...</td>\n",
       "      <td>0</td>\n",
       "      <td>1</td>\n",
       "      <td>0</td>\n",
       "      <td>0</td>\n",
       "      <td>0</td>\n",
       "      <td>1</td>\n",
       "      <td>0</td>\n",
       "      <td>0</td>\n",
       "      <td>0</td>\n",
       "      <td>1</td>\n",
       "    </tr>\n",
       "    <tr>\n",
       "      <th>4</th>\n",
       "      <td>79.0</td>\n",
       "      <td>1</td>\n",
       "      <td>0</td>\n",
       "      <td>174.12</td>\n",
       "      <td>24.000000</td>\n",
       "      <td>1</td>\n",
       "      <td>1</td>\n",
       "      <td>0</td>\n",
       "      <td>0</td>\n",
       "      <td>1</td>\n",
       "      <td>...</td>\n",
       "      <td>0</td>\n",
       "      <td>0</td>\n",
       "      <td>1</td>\n",
       "      <td>0</td>\n",
       "      <td>1</td>\n",
       "      <td>0</td>\n",
       "      <td>0</td>\n",
       "      <td>0</td>\n",
       "      <td>1</td>\n",
       "      <td>0</td>\n",
       "    </tr>\n",
       "  </tbody>\n",
       "</table>\n",
       "<p>5 rows × 21 columns</p>\n",
       "</div>"
      ],
      "text/plain": [
       "    age  hypertension  heart_disease  avg_glucose_level        bmi  stroke  \\\n",
       "0  67.0             0              1             228.69  36.600000       1   \n",
       "1  61.0             0              0             202.21  28.893237       1   \n",
       "2  80.0             0              1             105.92  32.500000       1   \n",
       "3  49.0             0              0             171.23  34.400000       1   \n",
       "4  79.0             1              0             174.12  24.000000       1   \n",
       "\n",
       "   gender_Female  gender_Male  ever_married_No  ever_married_Yes  ...  \\\n",
       "0              0            1                0                 1  ...   \n",
       "1              1            0                0                 1  ...   \n",
       "2              0            1                0                 1  ...   \n",
       "3              1            0                0                 1  ...   \n",
       "4              1            0                0                 1  ...   \n",
       "\n",
       "   work_type_Never_worked  work_type_Private  work_type_Self-employed  \\\n",
       "0                       0                  1                        0   \n",
       "1                       0                  0                        1   \n",
       "2                       0                  1                        0   \n",
       "3                       0                  1                        0   \n",
       "4                       0                  0                        1   \n",
       "\n",
       "   work_type_children  Residence_type_Rural  Residence_type_Urban  \\\n",
       "0                   0                     0                     1   \n",
       "1                   0                     1                     0   \n",
       "2                   0                     1                     0   \n",
       "3                   0                     0                     1   \n",
       "4                   0                     1                     0   \n",
       "\n",
       "   smoking_status_Unknown  smoking_status_formerly smoked  \\\n",
       "0                       0                               1   \n",
       "1                       0                               0   \n",
       "2                       0                               0   \n",
       "3                       0                               0   \n",
       "4                       0                               0   \n",
       "\n",
       "   smoking_status_never smoked  smoking_status_smokes  \n",
       "0                            0                      0  \n",
       "1                            1                      0  \n",
       "2                            1                      0  \n",
       "3                            0                      1  \n",
       "4                            1                      0  \n",
       "\n",
       "[5 rows x 21 columns]"
      ]
     },
     "execution_count": 13,
     "metadata": {},
     "output_type": "execute_result"
    }
   ],
   "source": [
    "for cat in categorical_variables:\n",
    "    df = one_hot_encode_column(df, cat)\n",
    "df.head()"
   ]
  },
  {
   "cell_type": "markdown",
   "id": "4947feca",
   "metadata": {
    "papermill": {
     "duration": 0.007513,
     "end_time": "2023-12-27T22:42:09.706091",
     "exception": false,
     "start_time": "2023-12-27T22:42:09.698578",
     "status": "completed"
    },
    "tags": []
   },
   "source": [
    "**Random Forest Classification**\n",
    "\n",
    "Parameters:\n",
    "- Max depth: 2"
   ]
  },
  {
   "cell_type": "code",
   "execution_count": 14,
   "id": "4b62def2",
   "metadata": {
    "execution": {
     "iopub.execute_input": "2023-12-27T22:42:09.723597Z",
     "iopub.status.busy": "2023-12-27T22:42:09.722565Z",
     "iopub.status.idle": "2023-12-27T22:42:09.983392Z",
     "shell.execute_reply": "2023-12-27T22:42:09.982009Z"
    },
    "papermill": {
     "duration": 0.272507,
     "end_time": "2023-12-27T22:42:09.986174",
     "exception": false,
     "start_time": "2023-12-27T22:42:09.713667",
     "status": "completed"
    },
    "tags": []
   },
   "outputs": [],
   "source": [
    "from sklearn.model_selection import train_test_split\n",
    "X = df.drop([\"stroke\"], axis = 1)\n",
    "y = df[\"stroke\"]\n",
    "X_train, X_test, y_train, y_test = train_test_split(X, y, train_size=0.2, random_state=42)"
   ]
  },
  {
   "cell_type": "code",
   "execution_count": 15,
   "id": "6fd47b45",
   "metadata": {
    "execution": {
     "iopub.execute_input": "2023-12-27T22:42:10.005170Z",
     "iopub.status.busy": "2023-12-27T22:42:10.004126Z",
     "iopub.status.idle": "2023-12-27T22:42:10.565839Z",
     "shell.execute_reply": "2023-12-27T22:42:10.564439Z"
    },
    "papermill": {
     "duration": 0.574041,
     "end_time": "2023-12-27T22:42:10.568503",
     "exception": false,
     "start_time": "2023-12-27T22:42:09.994462",
     "status": "completed"
    },
    "tags": []
   },
   "outputs": [],
   "source": [
    "from sklearn.ensemble import RandomForestClassifier\n",
    "from sklearn.datasets import make_classification\n",
    "clf = RandomForestClassifier(max_depth=2, random_state=0)\n",
    "clf.fit(X_train, y_train)\n",
    "prediction = clf.predict(X_test)"
   ]
  },
  {
   "cell_type": "code",
   "execution_count": 16,
   "id": "d4e589f0",
   "metadata": {
    "execution": {
     "iopub.execute_input": "2023-12-27T22:42:10.588014Z",
     "iopub.status.busy": "2023-12-27T22:42:10.587560Z",
     "iopub.status.idle": "2023-12-27T22:42:10.595754Z",
     "shell.execute_reply": "2023-12-27T22:42:10.594776Z"
    },
    "papermill": {
     "duration": 0.020877,
     "end_time": "2023-12-27T22:42:10.598242",
     "exception": false,
     "start_time": "2023-12-27T22:42:10.577365",
     "status": "completed"
    },
    "tags": []
   },
   "outputs": [
    {
     "data": {
      "text/plain": [
       "0.9496086105675147"
      ]
     },
     "execution_count": 16,
     "metadata": {},
     "output_type": "execute_result"
    }
   ],
   "source": [
    "sum(prediction == y_test)/len(y_test)"
   ]
  },
  {
   "cell_type": "markdown",
   "id": "71f68c88",
   "metadata": {
    "papermill": {
     "duration": 0.00794,
     "end_time": "2023-12-27T22:42:10.614857",
     "exception": false,
     "start_time": "2023-12-27T22:42:10.606917",
     "status": "completed"
    },
    "tags": []
   },
   "source": [
    "**Evaluations**"
   ]
  },
  {
   "cell_type": "code",
   "execution_count": 17,
   "id": "41a597df",
   "metadata": {
    "execution": {
     "iopub.execute_input": "2023-12-27T22:42:10.633295Z",
     "iopub.status.busy": "2023-12-27T22:42:10.632900Z",
     "iopub.status.idle": "2023-12-27T22:42:10.653709Z",
     "shell.execute_reply": "2023-12-27T22:42:10.651880Z"
    },
    "papermill": {
     "duration": 0.032967,
     "end_time": "2023-12-27T22:42:10.656165",
     "exception": false,
     "start_time": "2023-12-27T22:42:10.623198",
     "status": "completed"
    },
    "tags": []
   },
   "outputs": [
    {
     "name": "stdout",
     "output_type": "stream",
     "text": [
      "              precision    recall  f1-score   support\n",
      "\n",
      "           0       0.95      1.00      0.97      3882\n",
      "           1       0.00      0.00      0.00       206\n",
      "\n",
      "    accuracy                           0.95      4088\n",
      "   macro avg       0.47      0.50      0.49      4088\n",
      "weighted avg       0.90      0.95      0.93      4088\n",
      "\n"
     ]
    },
    {
     "name": "stderr",
     "output_type": "stream",
     "text": [
      "/opt/conda/lib/python3.10/site-packages/sklearn/metrics/_classification.py:1344: UndefinedMetricWarning: Precision and F-score are ill-defined and being set to 0.0 in labels with no predicted samples. Use `zero_division` parameter to control this behavior.\n",
      "  _warn_prf(average, modifier, msg_start, len(result))\n",
      "/opt/conda/lib/python3.10/site-packages/sklearn/metrics/_classification.py:1344: UndefinedMetricWarning: Precision and F-score are ill-defined and being set to 0.0 in labels with no predicted samples. Use `zero_division` parameter to control this behavior.\n",
      "  _warn_prf(average, modifier, msg_start, len(result))\n",
      "/opt/conda/lib/python3.10/site-packages/sklearn/metrics/_classification.py:1344: UndefinedMetricWarning: Precision and F-score are ill-defined and being set to 0.0 in labels with no predicted samples. Use `zero_division` parameter to control this behavior.\n",
      "  _warn_prf(average, modifier, msg_start, len(result))\n"
     ]
    }
   ],
   "source": [
    "from sklearn.metrics import classification_report\n",
    "print(classification_report(y_test, prediction))"
   ]
  },
  {
   "cell_type": "code",
   "execution_count": null,
   "id": "aa963a4a",
   "metadata": {
    "papermill": {
     "duration": 0.00785,
     "end_time": "2023-12-27T22:42:10.672484",
     "exception": false,
     "start_time": "2023-12-27T22:42:10.664634",
     "status": "completed"
    },
    "tags": []
   },
   "outputs": [],
   "source": []
  }
 ],
 "metadata": {
  "kaggle": {
   "accelerator": "none",
   "dataSources": [
    {
     "datasetId": 1120859,
     "sourceId": 1882037,
     "sourceType": "datasetVersion"
    }
   ],
   "dockerImageVersionId": 30626,
   "isGpuEnabled": false,
   "isInternetEnabled": true,
   "language": "python",
   "sourceType": "notebook"
  },
  "kernelspec": {
   "display_name": "Python 3",
   "language": "python",
   "name": "python3"
  },
  "language_info": {
   "codemirror_mode": {
    "name": "ipython",
    "version": 3
   },
   "file_extension": ".py",
   "mimetype": "text/x-python",
   "name": "python",
   "nbconvert_exporter": "python",
   "pygments_lexer": "ipython3",
   "version": "3.10.12"
  },
  "papermill": {
   "default_parameters": {},
   "duration": 7.898813,
   "end_time": "2023-12-27T22:42:11.301278",
   "environment_variables": {},
   "exception": null,
   "input_path": "__notebook__.ipynb",
   "output_path": "__notebook__.ipynb",
   "parameters": {},
   "start_time": "2023-12-27T22:42:03.402465",
   "version": "2.4.0"
  }
 },
 "nbformat": 4,
 "nbformat_minor": 5
}
